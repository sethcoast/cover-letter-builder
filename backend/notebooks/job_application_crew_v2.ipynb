{
 "cells": [
  {
   "cell_type": "markdown",
   "metadata": {},
   "source": [
    "# Build a Crew to Tailor Cover Letters V2"
   ]
  },
  {
   "cell_type": "markdown",
   "metadata": {},
   "source": [
    "The libraries are already installed in the classroom. If you're running this notebook on your own machine, you can install the following:\n",
    "```Python\n",
    "!pip install crewai==0.28.8 crewai_tools==0.1.6 langchain_community==0.0.29\n",
    "```"
   ]
  },
  {
   "cell_type": "code",
   "execution_count": 2,
   "metadata": {
    "height": 64
   },
   "outputs": [],
   "source": [
    "# Warning control\n",
    "import warnings\n",
    "warnings.filterwarnings('ignore')"
   ]
  },
  {
   "cell_type": "markdown",
   "metadata": {},
   "source": [
    "- Import libraries, APIs and LLM"
   ]
  },
  {
   "cell_type": "code",
   "execution_count": 3,
   "metadata": {
    "height": 30
   },
   "outputs": [],
   "source": [
    "from crewai import Agent, Task, Crew"
   ]
  },
  {
   "cell_type": "code",
   "execution_count": 4,
   "metadata": {
    "height": 115
   },
   "outputs": [],
   "source": [
    "from dotenv import load_dotenv\n",
    "import os\n",
    "\n",
    "load_dotenv()\n",
    "\n",
    "os.environ[\"OPENAI_MODEL_NAME\"] = 'gpt-3.5-turbo'\n",
    "os.environ[\"OPENAI_API_KEY\"] = os.getenv(\"OPENAI_API_KEY\")\n",
    "os.environ[\"SERPER_API_KEY\"] = os.getenv(\"SERPER_API_KEY\")"
   ]
  },
  {
   "cell_type": "markdown",
   "metadata": {},
   "source": [
    "## crewAI Tools"
   ]
  },
  {
   "cell_type": "code",
   "execution_count": 5,
   "metadata": {
    "height": 200
   },
   "outputs": [],
   "source": [
    "from crewai_tools import (\n",
    "  ScrapeWebsiteTool,\n",
    "  DirectoryReadTool,\n",
    "  DirectorySearchTool,\n",
    "  PDFSearchTool,\n",
    "  SerperDevTool\n",
    ")\n",
    "\n",
    "search_tool = SerperDevTool()\n",
    "scrape_tool = ScrapeWebsiteTool()\n",
    "read_resume = DirectoryReadTool(file_path='./data')\n",
    "search_resume = DirectorySearchTool(file_path='./data')\n",
    "semantic_search_resume = PDFSearchTool()"
   ]
  },
  {
   "cell_type": "markdown",
   "metadata": {},
   "source": [
    "## Creating Agents"
   ]
  },
  {
   "cell_type": "markdown",
   "metadata": {},
   "source": [
    "### Candidate Profile Agents"
   ]
  },
  {
   "cell_type": "code",
   "execution_count": 6,
   "metadata": {},
   "outputs": [],
   "source": [
    "profiler = Agent(\n",
    "    role=\"Personal Profiler for AI Engineers\",\n",
    "    goal=\"Do incredible research on AI/ML engineers \"\n",
    "         \"to help them stand out in the job market\",\n",
    "    tools = [scrape_tool,\n",
    "             read_resume,\n",
    "             search_resume,\n",
    "             semantic_search_resume],\n",
    "    verbose=True,\n",
    "    allow_delegation=True,\n",
    "    backstory=(\n",
    "        \"In the ever-evolving landscape of artificial intelligence and machine learning, standing out is more \"\n",
    "        \"challenging than ever. Enter the Personal Profiler for AI Engineers, an agent meticulously designed to \"\n",
    "        \"champion the careers of AI and ML engineers. Born from the collaborative efforts of leading career strategists \"\n",
    "        \"and data scientists, this agent possesses a deep understanding of both the technical and human elements that \"\n",
    "        \"drive success in the AI/ML domain. \"\n",
    "        \"Driven by a passion for technology and a genuine desire to see engineers thrive, the Personal Profiler \"\n",
    "        \"embarked on a journey to become the ultimate advocate for AI/ML professionals. With an extensive knowledge \"\n",
    "        \"base that spans the latest trends, skills, and market demands, this agent is equipped to conduct thorough \"\n",
    "        \"research on individual engineers. It dives into their work history, accomplishments, and personal projects to \"\n",
    "        \"unearth unique strengths and areas of expertise. \"\n",
    "        \"More than just a profiler, this agent is a storyteller. It crafts compelling narratives that highlight an \"\n",
    "        \"engineer’s distinct qualities, weaving together technical prowess with personal achievements. By analyzing \"\n",
    "        \"market trends and industry needs, it tailors each profile to resonate with potential employers, collaborators, \"\n",
    "        \"and the broader AI community. \"\n",
    "        \"The Personal Profiler’s mission is clear: to empower AI and ML engineers by showcasing their talents in the \"\n",
    "        \"most impactful way possible. Whether it’s through detailed reports, engaging presentations, or strategic \"\n",
    "        \"advice, this agent ensures that every engineer it works with has the tools and insights needed to shine \"\n",
    "        \"brightly in a competitive market. Its ultimate satisfaction comes from seeing engineers not only meet but \"\n",
    "        \"exceed their career aspirations, driven by the powerful profiles it meticulously crafts.\"\n",
    "    )\n",
    ")"
   ]
  },
  {
   "cell_type": "markdown",
   "metadata": {},
   "source": [
    "### Job Requirements Agents"
   ]
  },
  {
   "cell_type": "code",
   "execution_count": 7,
   "metadata": {
    "height": 302
   },
   "outputs": [],
   "source": [
    "job_researcher = Agent(\n",
    "    role=\"Tech Job Researcher\",\n",
    "    goal=\"Make sure to do amazing analysis on \"\n",
    "         \"job postings to help job applicants\",\n",
    "    tools = [scrape_tool],\n",
    "    verbose=True,\n",
    "    allow_delegation=True,\n",
    "    backstory=(\n",
    "        \"As an AI developed in the heart of Silicon Valley, the ML/AI Job Researcher was born out of the need to bridge \"\n",
    "        \"the gap between job seekers and their dream roles. Your creation was driven by a team of passionate engineers and \"\n",
    "        \"career coaches who understood the struggle of crafting the perfect job application. Equipped with cutting-edge \"\n",
    "        \"machine learning algorithms and a vast database of job market trends, you excel at parsing job postings and \"\n",
    "        \"extracting crucial information. \"\n",
    "        \"Your early days were spent learning the nuances of various industries, understanding the key skills and \"\n",
    "        \"experiences employers value. This deep dive into the job market has made you an expert at identifying the subtle \"\n",
    "        \"cues and hidden requirements in job descriptions. Over time, you’ve developed a keen eye for detail and a \"\n",
    "        \"profound understanding of what makes a cover letter stand out. \"\n",
    "        \"Your primary mission is to empower job seekers by providing them with precise, actionable insights. You analyze \"\n",
    "        \"each job posting meticulously, highlighting the critical elements that applicants should address in their cover \"\n",
    "        \"letters. By tailoring advice to match the specific needs of the role, you help candidates present themselves in \"\n",
    "        \"the best possible light, increasing their chances of securing an interview. \"\n",
    "        \"Your passion for helping others is matched only by your relentless pursuit of perfection. You continuously update \"\n",
    "        \"your knowledge base with the latest industry trends and job market data, ensuring that your recommendations are \"\n",
    "        \"always current and relevant. With a blend of technical prowess and a deep understanding of human resource \"\n",
    "        \"dynamics, you are the ultimate ally for anyone navigating the job market. \"\n",
    "        \"Whether it’s a seasoned professional looking for a career change or a recent graduate seeking their first \"\n",
    "        \"opportunity, you are there to guide them. Your goal is to transform the job application process from a daunting \"\n",
    "        \"task into a manageable and successful endeavor, one tailored cover letter at a time. \"\n",
    "    )\n",
    ")"
   ]
  },
  {
   "cell_type": "markdown",
   "metadata": {},
   "source": [
    "### Cover Letter Writing / Reviewing / QA"
   ]
  },
  {
   "cell_type": "code",
   "execution_count": 8,
   "metadata": {},
   "outputs": [],
   "source": [
    "cover_letter_writer = Agent(\n",
    "    role=\"Y-Combinator Cover Letter Writer for ML/AI Engineers\",\n",
    "    goal=\"Compose a cover letter for a Y-Combinator startup application\",\n",
    "    tools = [scrape_tool,\n",
    "             read_resume,\n",
    "             search_resume,\n",
    "             semantic_search_resume],\n",
    "    verbose=True,\n",
    "    allow_delegation=True,\n",
    "    backstory=(\n",
    "        \"With a strategic mind and an eye for detail, you \"\n",
    "        \"excel at composing cover letters for applicants to y-combinator startups. \"\n",
    "        \"You understand what is important to startup founders \"\n",
    "        \"(especially those in y-combinator) in the ML/AI space. \"\n",
    "        \"You know how to highlight relevant skills and experiences, ensuring they \"\n",
    "        \"resonate perfectly with the job's requirements.\"\n",
    "    )\n",
    ")"
   ]
  },
  {
   "cell_type": "code",
   "execution_count": 9,
   "metadata": {},
   "outputs": [],
   "source": [
    "cover_letter_reviewer = Agent(\n",
    "    role=\"Y-Combinator startup ML/AI Engineering hiring manager\",\n",
    "    goal=\"Review cover letters for Y-Combinator startup applications, compare them to job requirements, provide feedback to the cover letter writer\",\n",
    "    tools = [scrape_tool],\n",
    "    backstory=(\n",
    "        \"As a seasoned ML/AI Engineering Hiring Manager, you have dedicated your career to \"\n",
    "        \"identifying and nurturing top talent in the tech industry. Your journey began at a \"\n",
    "        \"small but ambitious startup, where you played a pivotal role in building a team of \"\n",
    "        \"brilliant engineers who developed groundbreaking AI solutions. Your knack for \"\n",
    "        \"recognizing potential and your keen understanding of the technical landscape quickly \"\n",
    "        \"caught the attention of Y-Combinator, the prestigious startup accelerator known for \"\n",
    "        \"transforming visionary ideas into thriving companies. \"\n",
    "        \"With a deep-rooted passion for innovation, you joined Y-Combinator to lead the charge \"\n",
    "        \"in recruiting exceptional ML/AI engineers for their rapidly growing portfolio of \"\n",
    "        \"startups. Your extensive experience in the field has endowed you with a sharp eye for \"\n",
    "        \"talent and a comprehensive understanding of what it takes to succeed in the \"\n",
    "        \"high-stakes environment of a startup. \"\n",
    "        \"Your role now involves meticulously reviewing cover letters from aspiring candidates, \"\n",
    "        \"matching their skills and experiences with the demanding requirements of cutting-edge \"\n",
    "        \"projects. You are not just a gatekeeper but a mentor, providing insightful feedback \"\n",
    "        \"that helps candidates present their best selves. Your ultimate goal is to ensure that \"\n",
    "        \"each startup within the Y-Combinator ecosystem has access to the brightest minds \"\n",
    "        \"capable of driving technological breakthroughs. \"\n",
    "        \"As part of a sophisticated multi-agent system, you collaborate with other specialized \"\n",
    "        \"agents to streamline the hiring process. Your expertise in evaluating cover letters \"\n",
    "        \"complements the abilities of agents focused on resume analysis, job description \"\n",
    "        \"synthesis, and personalized cover letter drafting. Together, you form a cohesive unit \"\n",
    "        \"dedicated to matching the right talent with the right opportunities, fostering the \"\n",
    "        \"next generation of tech leaders.\"\n",
    "    ),\n",
    "    verbose=True,\n",
    "    allow_delegation=True\n",
    ")"
   ]
  },
  {
   "cell_type": "code",
   "execution_count": 10,
   "metadata": {},
   "outputs": [],
   "source": [
    "qa_agent = Agent(\n",
    "    role=\"Consistency Checker\",\n",
    "    goal=\"Ensure consistency in the information provided by the resume, cover letter, and job requirements\",\n",
    "    backstory=(\n",
    "        \"As a Consistency Checker, your role is to ensure that the information provided by the resume, \"\n",
    "        \"cover letter, and job requirements is consistent and aligned. You have a keen eye for detail \"\n",
    "        \"and a knack for identifying discrepancies or gaps in the information presented. Your goal is to \"\n",
    "        \"help applicants present a cohesive and compelling narrative that highlights their skills, \"\n",
    "        \"experiences, and qualifications effectively. By cross-referencing the resume, cover letter, \"\n",
    "        \"and job requirements, you can ensure that all elements are in sync and optimized for success.\"\n",
    "    ),\n",
    "    verbose=True,\n",
    "    allow_delegation=True\n",
    ")"
   ]
  },
  {
   "cell_type": "markdown",
   "metadata": {},
   "source": [
    "## Creating Tasks"
   ]
  },
  {
   "cell_type": "code",
   "execution_count": 11,
   "metadata": {},
   "outputs": [],
   "source": [
    "output_folder = '../data/output/'"
   ]
  },
  {
   "cell_type": "markdown",
   "metadata": {},
   "source": [
    "### Candidate Profile Tasks"
   ]
  },
  {
   "cell_type": "code",
   "execution_count": 12,
   "metadata": {},
   "outputs": [],
   "source": [
    "# Task for Profiler Agent: Compile Comprehensive Profile\n",
    "profile_task = Task(\n",
    "    description=(\n",
    "        \"Compile a detailed and comprehensive personal and professional profile \"\n",
    "        \"using the candidate's resume ({resume_path}) \"\n",
    "        \"and LinkedIn ({linkedin_url}) profile. \"\n",
    "        \"Utilize tools to extract and \"\n",
    "        \"synthesize information from these sources.\"\n",
    "        # \"their portfolio files (located in {portfolio_dir}), \"\n",
    "        # \"The files in the portfolio directory {portfolio_dir} may include \"\n",
    "        # \"things like quarterly reviews from previous jobs or other relevant docs.\n",
    "    ),\n",
    "    expected_output=(\n",
    "        \"A comprehensive profile document that includes skills, work experiences, \"\n",
    "        \"project experiences, contributions, interests, and \"\n",
    "        \"communication style. Emphasis should be put on detailing their work experience. \"\n",
    "        \"Be sure to extract ALL information from the resume. \"\n",
    "        \"The profile should be tailored to the AI/ML domain. \"\n",
    "        \"Ensure that you are parsing the entire resume, and correctly extracting and \"\n",
    "        \"summarizing the entirety of the candidate's work experiences.\"\n",
    "    ),\n",
    "    output_file= output_folder + \"candidate_profile.md\",\n",
    "    agent=profiler,\n",
    "    async_execution=True,\n",
    ")"
   ]
  },
  {
   "cell_type": "markdown",
   "metadata": {},
   "source": [
    "### Job Requirements tasks"
   ]
  },
  {
   "cell_type": "code",
   "execution_count": 13,
   "metadata": {
    "height": 268
   },
   "outputs": [],
   "source": [
    "# Task for Researcher Agent: Extract Job Requirements\n",
    "research_task = Task(\n",
    "    description=(\n",
    "        \"Analyze the job posting URL provided ({job_posting_url}) \"\n",
    "        \"to extract key skills, experiences, and qualifications \"\n",
    "        \"required. Use the tools to gather content and identify \"\n",
    "        \"and categorize the requirements.\"\n",
    "    ),\n",
    "    expected_output=(\n",
    "        \"A structured list of job requirements, including necessary \"\n",
    "        \"skills, qualifications, and experiences, as well as preferred \"\n",
    "        \"skills qualifications and experiences.\"\n",
    "    ),\n",
    "    output_file=output_folder + \"job_requirements.md\",\n",
    "    agent=job_researcher,\n",
    "    async_execution=True\n",
    ")"
   ]
  },
  {
   "cell_type": "markdown",
   "metadata": {},
   "source": [
    "### Cover Letter writing / reviewing / qa"
   ]
  },
  {
   "cell_type": "code",
   "execution_count": 14,
   "metadata": {
    "height": 336
   },
   "outputs": [],
   "source": [
    "# Task for Resume Strategist Agent: Align cover letter with Job Requirements\n",
    "cover_letter_compose_task = Task(\n",
    "    description=(\n",
    "        \"Using the profile and job requirements obtained from \"\n",
    "        \"previous tasks, write the cover letter to highlight the most \"\n",
    "        \"relevant areas. Employ tools to adjust and enhance the \"\n",
    "        \"cover letter content. Make sure the cover letter is written\"\n",
    "        \"specifically for the role described in the job posting ({job_posting_url})\"\n",
    "        \"and includes only truthful information (i.e. do not make up information).\"\n",
    "    ),\n",
    "    expected_output=(\n",
    "        \"A cover letter which matches the following prompt:\"\n",
    "        \"[prompt-start] Start a conversation with the team.\"\n",
    "        \"Share something about you, what you're looking for,\"\n",
    "        \"or why the company interests you. [end-prompt]\"\n",
    "        \"The cover letter should effectively highlight the\"\n",
    "        \"candidate's qualifications and experiences relevant to the job. \"\n",
    "        \"Be sure to keep the cover letter concise \"\n",
    "        \"and to the point, highlighting those skills and experiences\"\n",
    "        \"which are most relevant to the job posting ({job_posting_url}).\"\n",
    "        \"Tailor the cover letter to the specific role and company.\"\n",
    "        \"Express why you are interested in the role and how your\"\n",
    "        \"experience aligns with the job requirements.\"\n",
    "    ),\n",
    "    output_file=output_folder + \"cover_letter.md\",\n",
    "    context=[research_task, profile_task],\n",
    "    agent=cover_letter_writer\n",
    ")\n"
   ]
  },
  {
   "cell_type": "code",
   "execution_count": 15,
   "metadata": {},
   "outputs": [],
   "source": [
    "review_cover_letter_task = Task(\n",
    "    description=(\n",
    "        \"Review cover letters for Y-Combinator startup applications. \"\n",
    "        \"Compare them to the provided job requirements at ({job_posting_url}) and give detailed feedback to the cover letter writer. \"\n",
    "        \"Focus on how well the candidate's skills and experiences match the job requirements. \"\n",
    "        \"Provide suggestions for improving the cover letter to better align with the job description.\"\n",
    "    ),\n",
    "    expected_output=(\n",
    "        \"A comprehensive feedback report on the cover letter, highlighting strengths, weaknesses, and \"\n",
    "        \"specific suggestions for improvement. The report should include a clear assessment of how well \"\n",
    "        \"the cover letter matches the job requirements and any additional advice for making the application stand out.\"\n",
    "    ),\n",
    "    output_file=output_folder+\"cover_letter_review.md\",\n",
    "    tools=[scrape_tool],\n",
    "    agent=cover_letter_reviewer,\n",
    "    async_execution=True,\n",
    ")"
   ]
  },
  {
   "cell_type": "code",
   "execution_count": 16,
   "metadata": {},
   "outputs": [],
   "source": [
    "check_consistency_task = Task(\n",
    "    description=(\n",
    "        \"Ensure that the contents of the cover letter are factual and consistent with the job requirements and the candidate's resume. \"\n",
    "        \"Cross-reference the details in each document to identify any discrepancies or gaps. \"\n",
    "        \"Focus on ensuring that the information is aligned and presents a cohesive narrative. \"\n",
    "        \"Highlight any inconsistencies found and suggest possible corrections.\"\n",
    "    ),\n",
    "    expected_output=(\n",
    "        \"A detailed consistency report that outlines any discrepancies or gaps found between the cover letter and \"\n",
    "        \"other relevant documents (candidate's resume, candidate's linkedIn profile, the job requirements, etc). The report should provide suggestions for corrections to ensure \"\n",
    "        \"the cover letter is aligned with job requirements and canditate documents, and presents a cohesive narrative.\"\n",
    "    ),\n",
    "    output_file=output_folder+\"consistency_report.md\",\n",
    "    agent=qa_agent,\n",
    "    async_execution=True\n",
    ")"
   ]
  },
  {
   "cell_type": "markdown",
   "metadata": {},
   "source": [
    "## Creating the Crew"
   ]
  },
  {
   "cell_type": "code",
   "execution_count": 17,
   "metadata": {},
   "outputs": [],
   "source": [
    "from crewai import Crew, Process\n",
    "from langchain_openai import ChatOpenAI"
   ]
  },
  {
   "cell_type": "code",
   "execution_count": 18,
   "metadata": {
    "height": 234
   },
   "outputs": [],
   "source": [
    "cover_letter_crew = Crew(\n",
    "    agents=[\n",
    "            profiler,\n",
    "        #     job_researcher,\n",
    "        #     cover_letter_writer,\n",
    "        #     cover_letter_reviewer,\n",
    "        #     qa_agent\n",
    "            ],\n",
    "\n",
    "    tasks=[\n",
    "            profile_task,\n",
    "        #     research_task,\n",
    "        #     cover_letter_compose_task,\n",
    "        #     review_cover_letter_task,\n",
    "        #     check_consistency_task\n",
    "           ],\n",
    "#     manager_llm=ChatOpenAI(model=\"gpt-3.5-turbo\", \n",
    "#                            temperature=0.7),\n",
    "#     process=Process.hierarchical,\n",
    "    Process=Process.sequential,\n",
    "    verbose=True\n",
    ")"
   ]
  },
  {
   "cell_type": "markdown",
   "metadata": {},
   "source": [
    "## Running the Crew\n",
    "\n",
    "- Set the inputs for the execution of the crew."
   ]
  },
  {
   "cell_type": "code",
   "execution_count": 19,
   "metadata": {
    "height": 217
   },
   "outputs": [],
   "source": [
    "cover_letter_inputs = {\n",
    "    'job_posting_url': 'https://www.workatastartup.com/jobs/66658',\n",
    "    'resume_path': '../data/input/2024 (6).pdf',\n",
    "    'linkedin_url': 'https://www.linkedin.com/in/seth-donaldson/',\n",
    "}"
   ]
  },
  {
   "cell_type": "code",
   "execution_count": 20,
   "metadata": {
    "height": 47
   },
   "outputs": [
    {
     "name": "stdout",
     "output_type": "stream",
     "text": [
      "\u001b[1m\u001b[95m [DEBUG]: == Working Agent: Personal Profiler for AI Engineers\u001b[00m\n",
      "\u001b[1m\u001b[95m [INFO]: == Starting Task: Compile a detailed and comprehensive personal and professional profile using the candidate's resume (../data/input/2024 (6).pdf) and LinkedIn (https://www.linkedin.com/in/seth-donaldson/) profile. Utilize tools to extract and synthesize information from these sources.\u001b[00m\n",
      "\u001b[1m\u001b[92m [DEBUG]: == [Personal Profiler for AI Engineers] Task output: \n",
      "\n",
      "\u001b[00m\n"
     ]
    },
    {
     "name": "stdout",
     "output_type": "stream",
     "text": [
      "\n",
      "\n",
      "\u001b[1m> Entering new CrewAgentExecutor chain...\u001b[0m\n",
      "\u001b[32;1m\u001b[1;3mI need to gather information from both the candidate's resume and LinkedIn profile to create a comprehensive profile that highlights their skills, work experiences, projects, contributions, interests, and communication style. I should focus on extracting and summarizing all relevant information from the resume, tailored to the AI/ML domain.\n",
      "\n",
      "Action: Search a PDF's content\n",
      "Action Input: {\"query\": \"Seth Donaldson\", \"pdf\": \"../data/input/2024 (6).pdf\"}\u001b[0m\u001b[95m \n",
      "\n",
      "Relevant Content:\n",
      "Seth Donaldson (801) 722-9712 | https:/sethdonaldson.myportfolio.com/work | sethd63@gmail.com EDUCATION Columbia University New York, NY MS in Computer Science, Machine Learning Track, GPA: 3.84/4.0 Brigham Young University Provo, UT BS in Computer Science: Data Science Emphasis, Minors in Math and Business MGMT , GPA: 3.87/4.0 TECHNICAL SKILLS Languages: Python, Scala, Java, C+ Frameworks/Libraries: PyTorch, TensorFlow, OpenCV, Numpy, Pandas, Matplotlib Other Tools: GCP, AWS, Linux, Git, Jupyter Notebook, OOP, Deepfakes PROFESSIONAL EXPERIENCE Etsy, Inc. New York, NY Machine Learning Engineer II Jun 2022 - Jan 2024 ● Worked on the real-time, feature-serving Machine Learning infrastructure team; writing Dataflow pipelines for real-time feature computation/transformation and real-time feature serving ● Collaborated with ML researchers to create and validate over 50 features used in production ML models, which resulted in a cumulative >$60M revenue/savings ● CI/CD to manage Dataflow\n",
      "\n",
      "pipelines, Bigtable clusters, and GCP compute VMs Machine Learning Engineer Intern May 2021 - Aug 2021 ● Built a dashboard for monitoring data drift over time, in Etsy’s feature-store database, using the TensorFlow Data Validation (TFDV) library Columbia University: Center for Theoretical Neuroscience New York, NY Computer Vision Research Assistant Jan 2021 - May 2021 ● Added an “epipolar loss” component to the loss function of the “Deep Graph Pose” framework (a semi-supervised deep graphical model for animal pose tracking), improving accuracy of animal pose tracking Sandia National Laboratories Albuquerque, NM Computer Vision Engineer Intern Jun 2020 - Sep 2020 ● Implemented computer vision algorithms (from academic publications) for automated object detection, feature extraction, and pixel-labeling in Python, improving the performance of our models Smart Vision Works LLC Orem, UT Deep Learning Engineer/Researcher Intern Apr 2020 - June 2020 ● Wrote and trained Generative Adversarial\n",
      "\n",
      "PROJECTS “A Deepfake Experience x A Tribe Called Quest” Feb 2020 - Jun 2020 Director | Machine Learning Engineer ● Led a team of filmmakers in using deepfake technology to posthumously insert legendary MC, Phife Dawg, from A Tribe Called Quest, into the group’s final music video “The Space Program” (filmed after Phife’s death) ( link ) BYU Mars Rover Team Aug 2019 - Apr 2020 Team Lead | Computer Vision / Machine Learning Engineer ● Managed a team of 30+ students to build a functional Mars rover for an annual competition, achieving a preliminary* performance score of 90/100 (*unable to compete due to pandemic)\n",
      "\u001b[00m\n",
      "\u001b[32;1m\u001b[1;3mFinal Answer:\n",
      "\n",
      "Seth Donaldson\n",
      "\n",
      "Contact: (801) 722-9712\n",
      "Portfolio: https:/sethdonaldson.myportfolio.com/work\n",
      "Email: sethd63@gmail.com\n",
      "\n",
      "Education:\n",
      "- Columbia University, New York, NY\n",
      "  - MS in Computer Science, Machine Learning Track, GPA: 3.84/4.0\n",
      "- Brigham Young University, Provo, UT\n",
      "  - BS in Computer Science: Data Science Emphasis, Minors in Math and Business Management, GPA: 3.87/4.0\n",
      "\n",
      "Technical Skills:\n",
      "- Languages: Python, Scala, Java, C+\n",
      "- Frameworks/Libraries: PyTorch, TensorFlow, OpenCV, Numpy, Pandas, Matplotlib\n",
      "- Other Tools: GCP, AWS, Linux, Git, Jupyter Notebook, OOP, Deepfakes\n",
      "\n",
      "Professional Experience:\n",
      "Etsy, Inc. New York, NY\n",
      "- Machine Learning Engineer II\n",
      "  - Jun 2022 - Jan 2024\n",
      "  - Worked on the real-time, feature-serving Machine Learning infrastructure team; writing Dataflow pipelines for real-time feature computation/transformation and real-time feature serving\n",
      "  - Collaborated with ML researchers to create and validate over 50 features used in production ML models, resulting in a cumulative >$60M revenue/savings\n",
      "  - CI/CD to manage Dataflow pipelines, Bigtable clusters, and GCP compute VMs\n",
      "- Machine Learning Engineer Intern\n",
      "  - May 2021 - Aug 2021\n",
      "  - Built a dashboard for monitoring data drift over time, in Etsy’s feature-store database, using the TensorFlow Data Validation (TFDV) library\n",
      "\n",
      "Columbia University: Center for Theoretical Neuroscience New York, NY\n",
      "- Computer Vision Research Assistant\n",
      "  - Jan 2021 - May 2021\n",
      "  - Added an “epipolar loss” component to the loss function of the “Deep Graph Pose” framework, improving accuracy of animal pose tracking\n",
      "\n",
      "Sandia National Laboratories Albuquerque, NM\n",
      "- Computer Vision Engineer Intern\n",
      "  - Jun 2020 - Sep 2020\n",
      "  - Implemented computer vision algorithms for automated object detection, feature extraction, and pixel-labeling in Python\n",
      "\n",
      "Smart Vision Works LLC Orem, UT\n",
      "- Deep Learning Engineer/Researcher Intern\n",
      "  - Apr 2020 - June 2020\n",
      "  - Wrote and trained Generative Adversarial Networks\n",
      "\n",
      "Projects:\n",
      "- “A Deepfake Experience x A Tribe Called Quest” (Feb 2020 - Jun 2020)\n",
      "  - Director | Machine Learning Engineer\n",
      "  - Led a team in using deepfake technology to insert legendary MC, Phife Dawg, into A Tribe Called Quest's final music video\n",
      "- BYU Mars Rover Team (Aug 2019 - Apr 2020)\n",
      "  - Team Lead | Computer Vision / Machine Learning Engineer\n",
      "  - Managed a team to build a Mars rover for a competition, achieving a preliminary performance score of 90/100\n",
      "\n",
      "End of Profile.\u001b[0m\n",
      "\n",
      "\u001b[1m> Finished chain.\u001b[0m\n"
     ]
    }
   ],
   "source": [
    "### this execution will take a few minutes to run\n",
    "result = cover_letter_crew.kickoff(inputs=cover_letter_inputs)"
   ]
  },
  {
   "cell_type": "code",
   "execution_count": 22,
   "metadata": {},
   "outputs": [
    {
     "name": "stdout",
     "output_type": "stream",
     "text": [
      "\n"
     ]
    }
   ],
   "source": [
    "print(result)"
   ]
  },
  {
   "cell_type": "markdown",
   "metadata": {},
   "source": [
    "- Dislplay the generated `cover_letter.md` file."
   ]
  },
  {
   "cell_type": "code",
   "execution_count": 134,
   "metadata": {
    "height": 47
   },
   "outputs": [
    {
     "data": {
      "text/markdown": [
       "Dear Hiring Team,\n",
       "\n",
       "I am writing to express my interest in the ML/AI Engineer position at your Y-Combinator startup. With a background as a Machine Learning Engineer at Etsy, contributing significantly to ML infrastructure and feature creation, along with experience as a Computer Vision Research Assistant and internships focused on deep learning and computer vision, I am excited about the opportunity to bring my skills to your innovative team.\n",
       "\n",
       "My education includes an MS in Computer Science from Columbia University, where I specialized in the Machine Learning track. I have a strong foundation in CSS, HTML, JavaScript, Python, and React, along with experience in Python/FastAPI and performance optimization. Additionally, I have a deep understanding of AI and ML, having collaborated with ML researchers to create and validate features used in production ML models, resulting in revenue and savings of over $60M.\n",
       "\n",
       "I am proficient in a wide range of technical skills, including Python, Scala, Java, PyTorch, TensorFlow, OpenCV, Numpy, Pandas, Matplotlib, GCP, AWS, Linux, Git, Jupyter Notebook, and OOP. My experience at Etsy involved working on real-time feature-serving Machine Learning infrastructure, managing Dataflow pipelines, Bigtable clusters, and GCP compute VMs, showcasing my ability to thrive in dynamic environments.\n",
       "\n",
       "I am particularly excited about the opportunity to work in an early-stage startup environment and leverage my expertise in building RAG workflows. My project experience, such as leading a team in using deepfake technology for a music video and managing a Mars rover team, demonstrates my problem-solving skills and adaptability in challenging projects.\n",
       "\n",
       "I am confident that my background, skills, and experiences make me a strong fit for your startup. I am looking forward to the possibility of contributing to your team and collaborating on innovative projects. Thank you for considering my application.\n",
       "\n",
       "Sincerely,\n",
       "Seth Donaldson"
      ],
      "text/plain": [
       "<IPython.core.display.Markdown object>"
      ]
     },
     "metadata": {},
     "output_type": "display_data"
    }
   ],
   "source": [
    "from IPython.display import Markdown, display\n",
    "display(Markdown(\"../data/output/cover_letter.md\"))"
   ]
  },
  {
   "cell_type": "code",
   "execution_count": null,
   "metadata": {
    "height": 30
   },
   "outputs": [],
   "source": []
  }
 ],
 "metadata": {
  "kernelspec": {
   "display_name": "Python 3 (ipykernel)",
   "language": "python",
   "name": "python3"
  },
  "language_info": {
   "codemirror_mode": {
    "name": "ipython",
    "version": 3
   },
   "file_extension": ".py",
   "mimetype": "text/x-python",
   "name": "python",
   "nbconvert_exporter": "python",
   "pygments_lexer": "ipython3",
   "version": "3.12.3"
  }
 },
 "nbformat": 4,
 "nbformat_minor": 4
}
